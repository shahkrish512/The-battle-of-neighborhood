{
 "cells": [
  {
   "cell_type": "markdown",
   "metadata": {},
   "source": [
    "# Introduction\n"
   ]
  },
  {
   "cell_type": "markdown",
   "metadata": {},
   "source": [
    "\n",
    "The London Housing industry was in negative spiral as per Newsweek Reporting. This now poses a variety of diverse downturns, including the possibility of higher taxation and a Reserve bank report the U.K. In the case of a disruptive withdrawal from the United kingdom, house prices could fall by much more than as 30 per cent. In fact, four ignored cracks suggest that the Manchester market will only get worse.\n",
    "\n",
    "In this situation, the implementation of machine learning software is desperately required to help home buyers customers in London make sensible, successful decisions. As an outcome, the business concern we are currently presenting is: in this unpredictable economic and political equation, how could we provide assistance to home buyers customers in purchasing appropriate property in England?\n",
    "\n",
    "To overcome this investment issue, we will be clustering London neighborhoods to suggest areas and the latest average real estate price where homebuyers may make an investment in real estate. They would propose attractive locations dependent on services and essential facilities surrounding these locations, i.e. elementary schools, secondary schools, pharmacies & department stores.\n"
   ]
  },
  {
   "cell_type": "code",
   "execution_count": null,
   "metadata": {},
   "outputs": [],
   "source": []
  }
 ],
 "metadata": {
  "kernelspec": {
   "display_name": "Python 3",
   "language": "python",
   "name": "python3"
  },
  "language_info": {
   "codemirror_mode": {
    "name": "ipython",
    "version": 3
   },
   "file_extension": ".py",
   "mimetype": "text/x-python",
   "name": "python",
   "nbconvert_exporter": "python",
   "pygments_lexer": "ipython3",
   "version": "3.7.6"
  }
 },
 "nbformat": 4,
 "nbformat_minor": 4
}
