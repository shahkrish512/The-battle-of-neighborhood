{
 "cells": [
  {
   "cell_type": "markdown",
   "metadata": {},
   "source": [
    "# Data\n"
   ]
  },
  {
   "cell_type": "markdown",
   "metadata": {},
   "source": [
    "Information is collected from the HM Land Registry on London property and the relative valuation-paid Information (http:/landregistry.data.gov.uk/). The following fields provide the address details used in Price Paid Details: Postcode; Primary Addressable Object Number PAON. The house number or designation typically; SAON Secondary Addressable Object Number.\n",
    "For eg, if there is a sub-floor, the floor would be divided into flats, a SAON; Street; Locality; Town / City; District; County. To identify and select preferred locations through different sites based on the availability of services and essential facilities, we can view data via the FourSquare API platform and configure it as a visualization data frame.\n",
    "\n",
    "Through combining data on London property and relative price charged data from the HM Land Registry and data on services and critical infrastructure covering such assets from the FourSquare API app, we would be able to suggest successful real estate investments.\n"
   ]
  },
  {
   "cell_type": "code",
   "execution_count": null,
   "metadata": {},
   "outputs": [],
   "source": []
  }
 ],
 "metadata": {
  "kernelspec": {
   "display_name": "Python 3",
   "language": "python",
   "name": "python3"
  },
  "language_info": {
   "codemirror_mode": {
    "name": "ipython",
    "version": 3
   },
   "file_extension": ".py",
   "mimetype": "text/x-python",
   "name": "python",
   "nbconvert_exporter": "python",
   "pygments_lexer": "ipython3",
   "version": "3.7.6"
  }
 },
 "nbformat": 4,
 "nbformat_minor": 4
}
